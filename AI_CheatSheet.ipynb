{
 "cells": [
  {
   "cell_type": "code",
   "execution_count": null,
   "id": "bf8e2e61-8b5c-4784-a109-198a4edad912",
   "metadata": {},
   "outputs": [],
   "source": [
    "#Dependencies\n",
    "import pandas as pd\n",
    "from sklearn.model_selection import train_test_split\n",
    "from sklearn.linear_model import LinearRegression"
   ]
  },
  {
   "cell_type": "code",
   "execution_count": null,
   "id": "6f66d3a5-b2c0-4b97-a617-8694af9908e6",
   "metadata": {},
   "outputs": [],
   "source": [
    "#Import the data\n",
    "df = pd.read_csv(\"file_location\").dropna()\n",
    "#show dataframe\n",
    "df.head()"
   ]
  },
  {
   "cell_type": "code",
   "execution_count": null,
   "id": "d21761f3-ebea-4ac7-97ee-3c6e60de98ff",
   "metadata": {},
   "outputs": [],
   "source": [
    "#Clean data\n",
    "# copy df and then drop column\n",
    "X = df.copy().drop(columns=\"column2drop\")\n",
    "X.head()"
   ]
  },
  {
   "cell_type": "code",
   "execution_count": null,
   "id": "903a9df1-a9db-4f5e-9929-ce3441e285bb",
   "metadata": {},
   "outputs": [],
   "source": [
    "Reshape\n",
    "y=df[\"target_column\"].values.reshape(-1,1)\n",
    "y[0:5]"
   ]
  },
  {
   "cell_type": "code",
   "execution_count": null,
   "id": "b1a3c751-e836-4d98-ab1f-273e14a4374e",
   "metadata": {},
   "outputs": [],
   "source": [
    "# Use the Sklearn `train_test_split()` function to split the data into training and testing data\n",
    "X_train, X_test, y_train, y_test = train_test_split(X, y, random_state=42)"
   ]
  },
  {
   "cell_type": "markdown",
   "id": "b44dae37-b7b4-4fc8-8718-6d9edad5f2a8",
   "metadata": {},
   "source": [
    "## VIF stands for Variance Inflation Factor. \n",
    "It is a measure used to detect multicollinearity in regression analysis. Multicollinearity occurs when two or more independent variables in a regression model are highly correlated, which can lead to unreliable estimates of the coefficients.\n",
    "\n",
    "The VIF quantifies how much the variance of a regression coefficient is inflated due to multicollinearity. A VIF value of 1 indicates no correlation between a given independent variable and the others, while a VIF value greater than 1 indicates some degree of correlation. Generally, a VIF value above 5 or 10 suggests a problematic amount of multicollinearity that may need to be addressed."
   ]
  },
  {
   "cell_type": "code",
   "execution_count": null,
   "id": "adcfb8b3-3c2f-4138-9ff7-57e639803a65",
   "metadata": {},
   "outputs": [],
   "source": [
    "# Create a function to calculate VIF\n",
    "from statsmodels.stats.outliers_influence import variance_inflation_factor\n",
    "\n",
    "def calc_vif(X):\n",
    "    vif = pd.DataFrame()\n",
    "    vif[\"variables\"] = X.columns\n",
    "    vif[\"VIF\"] = [variance_inflation_factor(X.values, i) for i in range(X.shape[1])]\n",
    "\n",
    "    return(vif)"
   ]
  },
  {
   "cell_type": "code",
   "execution_count": null,
   "id": "87dbd54e-5e22-40ab-9209-2a55e181d3b1",
   "metadata": {},
   "outputs": [],
   "source": [
    "# Calculate vif for the dataframe\n",
    "\n",
    "calc_vif(X).sort_values(\"VIF\")"
   ]
  },
  {
   "cell_type": "code",
   "execution_count": null,
   "id": "b97f2bd2-fa4c-4288-a817-a8c598d8d060",
   "metadata": {},
   "outputs": [],
   "source": []
  }
 ],
 "metadata": {
  "kernelspec": {
   "display_name": "Python 3 (ipykernel)",
   "language": "python",
   "name": "python3"
  },
  "language_info": {
   "codemirror_mode": {
    "name": "ipython",
    "version": 3
   },
   "file_extension": ".py",
   "mimetype": "text/x-python",
   "name": "python",
   "nbconvert_exporter": "python",
   "pygments_lexer": "ipython3",
   "version": "3.12.3"
  }
 },
 "nbformat": 4,
 "nbformat_minor": 5
}
